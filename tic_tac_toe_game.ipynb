{
 "cells": [
  {
   "cell_type": "markdown",
   "metadata": {},
   "source": [
    "# Tic Tac Toe game\n",
    "Implementing Tic Tac Toe game using python programming. It is my first project so I took a easy one. I will be making game with board printed in the output. I am first making functions that will be required in gaming."
   ]
  },
  {
   "cell_type": "markdown",
   "metadata": {},
   "source": [
    "# Function to print board\n",
    "Board requires a list of white space characters."
   ]
  },
  {
   "cell_type": "code",
   "execution_count": 1,
   "metadata": {},
   "outputs": [],
   "source": [
    "def board( board_list ) :\n",
    "    for i in range( len( board_list ) ) :\n",
    "        if i%3 == 0 :\n",
    "            print( \"\\n| \" + str( board_list[i] ), end = \" | \" )\n",
    "        else :\n",
    "            print( board_list[i], end = \" | \" )\n",
    "    print(\"\\n\")"
   ]
  },
  {
   "cell_type": "markdown",
   "metadata": {},
   "source": [
    "# Function to put input of user in the list\n",
    "index is provided by user. It is a index of that box in which user wants to put his value. Index starts from 0 to 8. example : If user wants to put his 'x' in middle box then he should give input as 4. First I will take input and then call this function."
   ]
  },
  {
   "cell_type": "code",
   "execution_count": 2,
   "metadata": {},
   "outputs": [],
   "source": [
    "def index_input( board_list, index, value ) :\n",
    "    board_list[index] = value"
   ]
  },
  {
   "cell_type": "markdown",
   "metadata": {},
   "source": [
    "# Function to get indexes of 'o' and 'x' in the board\n",
    "This is necessary because after each input of each user we need to check whether we get winner. For deciding winner python must know indexes of 'o' and 'x'."
   ]
  },
  {
   "cell_type": "code",
   "execution_count": 3,
   "metadata": {},
   "outputs": [],
   "source": [
    "def getindexes( board_list, value ) :\n",
    "    indexes = []\n",
    "    indexpos = 0\n",
    "    while True :\n",
    "        try:\n",
    "            indexpos = board_list.index( value, indexpos )\n",
    "            indexes.append( indexpos )\n",
    "            indexpos += 1\n",
    "        except ValueError as e :\n",
    "            break\n",
    "    return indexes"
   ]
  },
  {
   "cell_type": "markdown",
   "metadata": {},
   "source": [
    "# Function to know whether game ends abnormally\n",
    "After each user input we need to check if there are any places with no input values remaining. If not then game ends abnormally. If yes then we can move to the next input value."
   ]
  },
  {
   "cell_type": "code",
   "execution_count": 4,
   "metadata": {},
   "outputs": [],
   "source": [
    "def abnormal_end( board_list ) :\n",
    "    if board_list.count( 'o' ) + board_list.count( 'x' ) == 9 :\n",
    "        return 1\n",
    "    else :\n",
    "        return 0"
   ]
  },
  {
   "cell_type": "markdown",
   "metadata": {},
   "source": [
    "# Function to check whether player 1 is winner, whether player 2 is winner\n",
    "We are having a winning list which contains lists that contains triplets that forms a triplet in order to win the game. Then we will check by getindexes function whether this triplets exists in getindexes. whoever's triplets exist will win the game."
   ]
  },
  {
   "cell_type": "code",
   "execution_count": 5,
   "metadata": {},
   "outputs": [],
   "source": [
    "def check1( board_list, winning_list ) :\n",
    "    for i in range( len( winning_list ) ) :\n",
    "        count1 = 0\n",
    "        for j in range( len( winning_list[i] ) ) :\n",
    "            if winning_list[i][j] in getindexes( board_list, 'o' ) :\n",
    "                count1 += 1\n",
    "        if count1 == 3 :\n",
    "            return 1\n",
    "def check2( board_list, winning_list ) :\n",
    "    for i in range( len( winning_list ) ) :\n",
    "        count2 = 0\n",
    "        for j in range( len( winning_list[i] ) ) :\n",
    "            if winning_list[i][j] in getindexes( board_list, 'x' ) :\n",
    "                count2 += 1\n",
    "        if count2 == 3 :\n",
    "            return 1"
   ]
  },
  {
   "cell_type": "markdown",
   "metadata": {},
   "source": [
    "# Actual game programming\n",
    "Initialize all the data that we are going to require. Here exceptions are handled so no need to worry about exception errors."
   ]
  },
  {
   "cell_type": "code",
   "execution_count": 7,
   "metadata": {},
   "outputs": [
    {
     "name": "stdout",
     "output_type": "stream",
     "text": [
      "\n",
      "|   |   |   | \n",
      "|   |   |   | \n",
      "|   |   |   | \n",
      "\n",
      "enter name of player 1 : alisha\n",
      "enter name of player 2 : sultana\n",
      "alisha enter your input :4\n",
      "\n",
      "|   |   |   | \n",
      "|   | o |   | \n",
      "|   |   |   | \n",
      "\n",
      "Game Continues\n",
      "sultana enter your input :0\n",
      "\n",
      "| x |   |   | \n",
      "|   | o |   | \n",
      "|   |   |   | \n",
      "\n",
      "Game Continues\n",
      "alisha enter your input :2\n",
      "\n",
      "| x |   | o | \n",
      "|   | o |   | \n",
      "|   |   |   | \n",
      "\n",
      "Game Continues\n",
      "sultana enter your input :6\n",
      "\n",
      "| x |   | o | \n",
      "|   | o |   | \n",
      "| x |   |   | \n",
      "\n",
      "Game Continues\n",
      "alisha enter your input :3\n",
      "\n",
      "| x |   | o | \n",
      "| o | o |   | \n",
      "| x |   |   | \n",
      "\n",
      "Game Continues\n",
      "sultana enter your input :6\n",
      "Box is not empty. Please choose another!\n",
      "sultana enter your input :7\n",
      "\n",
      "| x |   | o | \n",
      "| o | o |   | \n",
      "| x | x |   | \n",
      "\n",
      "Game Continues\n",
      "alisha enter your input :5\n",
      "\n",
      "| x |   | o | \n",
      "| o | o | o | \n",
      "| x | x |   | \n",
      "\n",
      "alisha has won the game.\n"
     ]
    }
   ],
   "source": [
    "board_list = [ ' ', ' ', ' ', ' ', ' ', ' ', ' ', ' ', ' ' ]\n",
    "board( board_list )\n",
    "#list with all winning positions with indexes\n",
    "winning_list = [ [ 0, 3, 6 ], [ 1, 4, 7 ], [ 2, 5, 8 ], [ 0, 1, 2 ], [ 3, 4, 5 ], [ 6, 7, 8 ], [ 0, 4, 8 ], [ 2, 4, 6 ] ]\n",
    "#dictionary to assign value o and x to players respectively\n",
    "value_dict = { 'play1' : 'o', 'play2' : 'x' }\n",
    "#give information of players\n",
    "player1 = str( input( \"enter name of player 1 : \" ) )\n",
    "player2 = str( input( \"enter name of player 2 : \" ) )\n",
    "#here your game starts\n",
    "while True :\n",
    "        while True :\n",
    "            try :\n",
    "                i = int( input( player1 + \" enter your input :\" ) )\n",
    "                if board_list[i] == 'o' or board_list[i] == 'x' :\n",
    "                    print( \"Box is not empty. Please choose another!\" )\n",
    "                    continue\n",
    "                else :\n",
    "                    break\n",
    "            except ( ValueError, IndexError ) :\n",
    "                print( \"Select box index within given range.\" )\n",
    "                continue\n",
    "        value = value_dict[ 'play1' ]\n",
    "        index_input( board_list, i, value )\n",
    "        board( board_list )\n",
    "        if len( getindexes( board_list, value ) ) >= 3 and check1( board_list, winning_list ) :\n",
    "            print( player1 + \" has won the game.\" )\n",
    "            break\n",
    "        if abnormal_end( board_list ) :\n",
    "            print( \"Draw!\" )\n",
    "            break\n",
    "        else :\n",
    "            print( \"Game Continues\" )\n",
    "            while True:\n",
    "                try:\n",
    "                    i = int( input( player2 + \" enter your input :\") )\n",
    "                    if board_list[i] == 'o' or board_list[i] == 'x' :\n",
    "                        print( \"Box is not empty. Please choose another!\" )\n",
    "                        continue\n",
    "                    else:\n",
    "                        break\n",
    "                except ( ValueError, IndexError ) :\n",
    "                    print( \"Select box index within given range.\" )\n",
    "                    continue\n",
    "            value = value_dict[ 'play2' ]\n",
    "            index_input( board_list, i, value )\n",
    "            board( board_list )\n",
    "            if len( getindexes( board_list, value ) ) >= 3 and check2( board_list, winning_list ) :\n",
    "                print( player2 + \" has won the game\" )\n",
    "                break\n",
    "            if abnormal_end( board_list ) :\n",
    "                print( \"Draw!\" )\n",
    "            else :\n",
    "                print( \"Game Continues\" )\n",
    "                continue"
   ]
  }
 ],
 "metadata": {
  "kernelspec": {
   "display_name": "Python 3",
   "language": "python",
   "name": "python3"
  },
  "language_info": {
   "codemirror_mode": {
    "name": "ipython",
    "version": 3
   },
   "file_extension": ".py",
   "mimetype": "text/x-python",
   "name": "python",
   "nbconvert_exporter": "python",
   "pygments_lexer": "ipython3",
   "version": "3.7.6"
  }
 },
 "nbformat": 4,
 "nbformat_minor": 4
}
